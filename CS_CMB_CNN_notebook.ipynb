{
  "cells": [
    {
      "cell_type": "markdown",
      "source": [
        "# Mounting Google Drive"
      ],
      "metadata": {
        "id": "iDSOaEwB7ZF4"
      }
    },
    {
      "cell_type": "code",
      "source": [
        "from google.colab import drive\n",
        "drive.mount('/content/drive')"
      ],
      "metadata": {
        "id": "Jj38hh4r7Yct",
        "colab": {
          "base_uri": "https://localhost:8080/"
        },
        "outputId": "64479ccc-a396-490f-b657-7303a2b52255"
      },
      "execution_count": 1,
      "outputs": [
        {
          "output_type": "stream",
          "name": "stdout",
          "text": [
            "Mounted at /content/drive\n"
          ]
        }
      ]
    },
    {
      "cell_type": "markdown",
      "source": [
        "# Cloning the repo"
      ],
      "metadata": {
        "id": "c8bV-G__7gtW"
      }
    },
    {
      "cell_type": "code",
      "source": [
        "!git config --global user.email \"yashartayyarazad99@gmail.com\"\n",
        "!git config --global user.name \"yashar7799\""
      ],
      "metadata": {
        "id": "V4Bz5mUuTGkp"
      },
      "execution_count": 2,
      "outputs": []
    },
    {
      "cell_type": "code",
      "source": [
        "import os\n",
        "import shutil\n",
        "os.chdir('/content')\n",
        "shutil.rmtree('/content/CS-CMB-CNN', ignore_errors=True)\n",
        "!git clone https://github.com/yashar7799/CS-CMB-CNN.git"
      ],
      "metadata": {
        "colab": {
          "base_uri": "https://localhost:8080/"
        },
        "id": "aIj3MEg6TINq",
        "outputId": "99805ccc-7140-4e33-f022-ec2e8575e990"
      },
      "execution_count": 3,
      "outputs": [
        {
          "output_type": "stream",
          "name": "stdout",
          "text": [
            "Cloning into 'CS-CMB-CNN'...\n",
            "remote: Enumerating objects: 529, done.\u001b[K\n",
            "remote: Counting objects: 100% (529/529), done.\u001b[K\n",
            "remote: Compressing objects: 100% (394/394), done.\u001b[K\n",
            "remote: Total 529 (delta 228), reused 344 (delta 124), pack-reused 0\u001b[K\n",
            "Receiving objects: 100% (529/529), 354.08 KiB | 8.43 MiB/s, done.\n",
            "Resolving deltas: 100% (228/228), done.\n"
          ]
        }
      ]
    },
    {
      "cell_type": "code",
      "source": [
        "os.chdir('/content/CS-CMB-CNN')\n",
        "!git pull origin master"
      ],
      "metadata": {
        "id": "iXulB-Ww7tEA",
        "colab": {
          "base_uri": "https://localhost:8080/"
        },
        "outputId": "5be240e2-4666-427a-c663-6100819190f1"
      },
      "execution_count": 4,
      "outputs": [
        {
          "output_type": "stream",
          "name": "stdout",
          "text": [
            "From https://github.com/yashar7799/CS-CMB-CNN\n",
            " * branch            master     -> FETCH_HEAD\n",
            "Already up to date.\n"
          ]
        }
      ]
    },
    {
      "cell_type": "markdown",
      "source": [
        "# Install requirements"
      ],
      "metadata": {
        "id": "meZSjyWZ71Vw"
      }
    },
    {
      "cell_type": "code",
      "source": [
        "!pip install -r requirements.txt"
      ],
      "metadata": {
        "colab": {
          "base_uri": "https://localhost:8080/"
        },
        "id": "KCQcWogTQ4I8",
        "outputId": "59db1406-a651-4f88-a5f2-2db11ae038a4"
      },
      "execution_count": 5,
      "outputs": [
        {
          "output_type": "stream",
          "name": "stdout",
          "text": [
            "Collecting git+https://github.com/vafaei-ar/ccgpack.git (from -r requirements.txt (line 7))\n",
            "  Cloning https://github.com/vafaei-ar/ccgpack.git to /tmp/pip-req-build-jfxclgbo\n",
            "  Running command git clone -q https://github.com/vafaei-ar/ccgpack.git /tmp/pip-req-build-jfxclgbo\n",
            "Requirement already satisfied: albumentations in /usr/local/lib/python3.7/dist-packages (from -r requirements.txt (line 1)) (0.1.12)\n",
            "Requirement already satisfied: pillow in /usr/local/lib/python3.7/dist-packages (from -r requirements.txt (line 2)) (7.1.2)\n",
            "Requirement already satisfied: numpy in /usr/local/lib/python3.7/dist-packages (from -r requirements.txt (line 3)) (1.19.5)\n",
            "Requirement already satisfied: scipy in /usr/local/lib/python3.7/dist-packages (from -r requirements.txt (line 4)) (1.4.1)\n",
            "Requirement already satisfied: pandas in /usr/local/lib/python3.7/dist-packages (from -r requirements.txt (line 5)) (1.3.5)\n",
            "Collecting healpy\n",
            "  Downloading healpy-1.15.2-cp37-cp37m-manylinux_2_17_x86_64.manylinux2014_x86_64.whl (23.6 MB)\n",
            "\u001b[K     |████████████████████████████████| 23.6 MB 9.4 MB/s \n",
            "\u001b[?25hRequirement already satisfied: tensorflow in /usr/local/lib/python3.7/dist-packages (from -r requirements.txt (line 8)) (2.7.0)\n",
            "Requirement already satisfied: keras in /usr/local/lib/python3.7/dist-packages (from -r requirements.txt (line 9)) (2.7.0)\n",
            "Requirement already satisfied: sklearn in /usr/local/lib/python3.7/dist-packages (from -r requirements.txt (line 10)) (0.0)\n",
            "Requirement already satisfied: seaborn in /usr/local/lib/python3.7/dist-packages (from -r requirements.txt (line 11)) (0.11.2)\n",
            "Requirement already satisfied: matplotlib in /usr/local/lib/python3.7/dist-packages (from -r requirements.txt (line 12)) (3.2.2)\n",
            "Requirement already satisfied: gdown in /usr/local/lib/python3.7/dist-packages (from -r requirements.txt (line 13)) (4.2.1)\n",
            "Collecting pyngrok\n",
            "  Downloading pyngrok-5.1.0.tar.gz (745 kB)\n",
            "\u001b[K     |████████████████████████████████| 745 kB 39.4 MB/s \n",
            "\u001b[?25hCollecting mlflow>=1.20.2\n",
            "  Downloading mlflow-1.23.1-py3-none-any.whl (15.6 MB)\n",
            "\u001b[K     |████████████████████████████████| 15.6 MB 33.9 MB/s \n",
            "\u001b[?25hCollecting gunicorn\n",
            "  Downloading gunicorn-20.1.0-py3-none-any.whl (79 kB)\n",
            "\u001b[K     |████████████████████████████████| 79 kB 8.4 MB/s \n",
            "\u001b[?25hRequirement already satisfied: importlib-metadata!=4.7.0,>=3.7.0 in /usr/local/lib/python3.7/dist-packages (from mlflow>=1.20.2->-r requirements.txt (line 15)) (4.10.1)\n",
            "Requirement already satisfied: click>=7.0 in /usr/local/lib/python3.7/dist-packages (from mlflow>=1.20.2->-r requirements.txt (line 15)) (7.1.2)\n",
            "Requirement already satisfied: protobuf>=3.7.0 in /usr/local/lib/python3.7/dist-packages (from mlflow>=1.20.2->-r requirements.txt (line 15)) (3.17.3)\n",
            "Collecting docker>=4.0.0\n",
            "  Downloading docker-5.0.3-py2.py3-none-any.whl (146 kB)\n",
            "\u001b[K     |████████████████████████████████| 146 kB 38.7 MB/s \n",
            "\u001b[?25hCollecting prometheus-flask-exporter\n",
            "  Downloading prometheus_flask_exporter-0.18.7-py3-none-any.whl (17 kB)\n",
            "Collecting querystring-parser\n",
            "  Downloading querystring_parser-1.2.4-py2.py3-none-any.whl (7.9 kB)\n",
            "Requirement already satisfied: sqlparse>=0.3.1 in /usr/local/lib/python3.7/dist-packages (from mlflow>=1.20.2->-r requirements.txt (line 15)) (0.4.2)\n",
            "Requirement already satisfied: packaging in /usr/local/lib/python3.7/dist-packages (from mlflow>=1.20.2->-r requirements.txt (line 15)) (21.3)\n",
            "Collecting databricks-cli>=0.8.7\n",
            "  Downloading databricks-cli-0.16.4.tar.gz (58 kB)\n",
            "\u001b[K     |████████████████████████████████| 58 kB 5.4 MB/s \n",
            "\u001b[?25hRequirement already satisfied: pytz in /usr/local/lib/python3.7/dist-packages (from mlflow>=1.20.2->-r requirements.txt (line 15)) (2018.9)\n",
            "Collecting pyyaml>=5.1\n",
            "  Downloading PyYAML-6.0-cp37-cp37m-manylinux_2_5_x86_64.manylinux1_x86_64.manylinux_2_12_x86_64.manylinux2010_x86_64.whl (596 kB)\n",
            "\u001b[K     |████████████████████████████████| 596 kB 40.6 MB/s \n",
            "\u001b[?25hRequirement already satisfied: sqlalchemy in /usr/local/lib/python3.7/dist-packages (from mlflow>=1.20.2->-r requirements.txt (line 15)) (1.4.31)\n",
            "Collecting gitpython>=2.1.0\n",
            "  Downloading GitPython-3.1.26-py3-none-any.whl (180 kB)\n",
            "\u001b[K     |████████████████████████████████| 180 kB 51.2 MB/s \n",
            "\u001b[?25hRequirement already satisfied: cloudpickle in /usr/local/lib/python3.7/dist-packages (from mlflow>=1.20.2->-r requirements.txt (line 15)) (1.3.0)\n",
            "Requirement already satisfied: requests>=2.17.3 in /usr/local/lib/python3.7/dist-packages (from mlflow>=1.20.2->-r requirements.txt (line 15)) (2.23.0)\n",
            "Requirement already satisfied: Flask in /usr/local/lib/python3.7/dist-packages (from mlflow>=1.20.2->-r requirements.txt (line 15)) (1.1.4)\n",
            "Collecting alembic\n",
            "  Downloading alembic-1.7.6-py3-none-any.whl (210 kB)\n",
            "\u001b[K     |████████████████████████████████| 210 kB 50.6 MB/s \n",
            "\u001b[?25hRequirement already satisfied: entrypoints in /usr/local/lib/python3.7/dist-packages (from mlflow>=1.20.2->-r requirements.txt (line 15)) (0.4)\n",
            "Requirement already satisfied: tabulate>=0.7.7 in /usr/local/lib/python3.7/dist-packages (from databricks-cli>=0.8.7->mlflow>=1.20.2->-r requirements.txt (line 15)) (0.8.9)\n",
            "Requirement already satisfied: six>=1.10.0 in /usr/local/lib/python3.7/dist-packages (from databricks-cli>=0.8.7->mlflow>=1.20.2->-r requirements.txt (line 15)) (1.15.0)\n",
            "Collecting websocket-client>=0.32.0\n",
            "  Downloading websocket_client-1.2.3-py3-none-any.whl (53 kB)\n",
            "\u001b[K     |████████████████████████████████| 53 kB 2.1 MB/s \n",
            "\u001b[?25hRequirement already satisfied: typing-extensions>=3.7.4.3 in /usr/local/lib/python3.7/dist-packages (from gitpython>=2.1.0->mlflow>=1.20.2->-r requirements.txt (line 15)) (3.10.0.2)\n",
            "Collecting gitdb<5,>=4.0.1\n",
            "  Downloading gitdb-4.0.9-py3-none-any.whl (63 kB)\n",
            "\u001b[K     |████████████████████████████████| 63 kB 1.6 MB/s \n",
            "\u001b[?25hCollecting smmap<6,>=3.0.1\n",
            "  Downloading smmap-5.0.0-py3-none-any.whl (24 kB)\n",
            "Requirement already satisfied: zipp>=0.5 in /usr/local/lib/python3.7/dist-packages (from importlib-metadata!=4.7.0,>=3.7.0->mlflow>=1.20.2->-r requirements.txt (line 15)) (3.7.0)\n",
            "Requirement already satisfied: chardet<4,>=3.0.2 in /usr/local/lib/python3.7/dist-packages (from requests>=2.17.3->mlflow>=1.20.2->-r requirements.txt (line 15)) (3.0.4)\n",
            "Requirement already satisfied: certifi>=2017.4.17 in /usr/local/lib/python3.7/dist-packages (from requests>=2.17.3->mlflow>=1.20.2->-r requirements.txt (line 15)) (2021.10.8)\n",
            "Requirement already satisfied: idna<3,>=2.5 in /usr/local/lib/python3.7/dist-packages (from requests>=2.17.3->mlflow>=1.20.2->-r requirements.txt (line 15)) (2.10)\n",
            "Requirement already satisfied: urllib3!=1.25.0,!=1.25.1,<1.26,>=1.21.1 in /usr/local/lib/python3.7/dist-packages (from requests>=2.17.3->mlflow>=1.20.2->-r requirements.txt (line 15)) (1.24.3)\n",
            "Requirement already satisfied: opencv-python in /usr/local/lib/python3.7/dist-packages (from albumentations->-r requirements.txt (line 1)) (4.1.2.30)\n",
            "Collecting imgaug<0.2.7,>=0.2.5\n",
            "  Downloading imgaug-0.2.6.tar.gz (631 kB)\n",
            "\u001b[K     |████████████████████████████████| 631 kB 45.2 MB/s \n",
            "\u001b[?25hRequirement already satisfied: scikit-image>=0.11.0 in /usr/local/lib/python3.7/dist-packages (from imgaug<0.2.7,>=0.2.5->albumentations->-r requirements.txt (line 1)) (0.18.3)\n",
            "Requirement already satisfied: networkx>=2.0 in /usr/local/lib/python3.7/dist-packages (from scikit-image>=0.11.0->imgaug<0.2.7,>=0.2.5->albumentations->-r requirements.txt (line 1)) (2.6.3)\n",
            "Requirement already satisfied: tifffile>=2019.7.26 in /usr/local/lib/python3.7/dist-packages (from scikit-image>=0.11.0->imgaug<0.2.7,>=0.2.5->albumentations->-r requirements.txt (line 1)) (2021.11.2)\n",
            "Requirement already satisfied: imageio>=2.3.0 in /usr/local/lib/python3.7/dist-packages (from scikit-image>=0.11.0->imgaug<0.2.7,>=0.2.5->albumentations->-r requirements.txt (line 1)) (2.4.1)\n",
            "Requirement already satisfied: PyWavelets>=1.1.1 in /usr/local/lib/python3.7/dist-packages (from scikit-image>=0.11.0->imgaug<0.2.7,>=0.2.5->albumentations->-r requirements.txt (line 1)) (1.2.0)\n",
            "Requirement already satisfied: kiwisolver>=1.0.1 in /usr/local/lib/python3.7/dist-packages (from matplotlib->-r requirements.txt (line 12)) (1.3.2)\n",
            "Requirement already satisfied: pyparsing!=2.0.4,!=2.1.2,!=2.1.6,>=2.0.1 in /usr/local/lib/python3.7/dist-packages (from matplotlib->-r requirements.txt (line 12)) (3.0.7)\n",
            "Requirement already satisfied: cycler>=0.10 in /usr/local/lib/python3.7/dist-packages (from matplotlib->-r requirements.txt (line 12)) (0.11.0)\n",
            "Requirement already satisfied: python-dateutil>=2.1 in /usr/local/lib/python3.7/dist-packages (from matplotlib->-r requirements.txt (line 12)) (2.8.2)\n",
            "Requirement already satisfied: astropy in /usr/local/lib/python3.7/dist-packages (from healpy->-r requirements.txt (line 6)) (4.3.1)\n",
            "Requirement already satisfied: keras-preprocessing>=1.1.1 in /usr/local/lib/python3.7/dist-packages (from tensorflow->-r requirements.txt (line 8)) (1.1.2)\n",
            "Requirement already satisfied: tensorflow-estimator<2.8,~=2.7.0rc0 in /usr/local/lib/python3.7/dist-packages (from tensorflow->-r requirements.txt (line 8)) (2.7.0)\n",
            "Requirement already satisfied: libclang>=9.0.1 in /usr/local/lib/python3.7/dist-packages (from tensorflow->-r requirements.txt (line 8)) (13.0.0)\n",
            "Requirement already satisfied: grpcio<2.0,>=1.24.3 in /usr/local/lib/python3.7/dist-packages (from tensorflow->-r requirements.txt (line 8)) (1.43.0)\n",
            "Requirement already satisfied: termcolor>=1.1.0 in /usr/local/lib/python3.7/dist-packages (from tensorflow->-r requirements.txt (line 8)) (1.1.0)\n",
            "Requirement already satisfied: gast<0.5.0,>=0.2.1 in /usr/local/lib/python3.7/dist-packages (from tensorflow->-r requirements.txt (line 8)) (0.4.0)\n",
            "Requirement already satisfied: tensorflow-io-gcs-filesystem>=0.21.0 in /usr/local/lib/python3.7/dist-packages (from tensorflow->-r requirements.txt (line 8)) (0.24.0)\n",
            "Requirement already satisfied: absl-py>=0.4.0 in /usr/local/lib/python3.7/dist-packages (from tensorflow->-r requirements.txt (line 8)) (1.0.0)\n",
            "Requirement already satisfied: flatbuffers<3.0,>=1.12 in /usr/local/lib/python3.7/dist-packages (from tensorflow->-r requirements.txt (line 8)) (2.0)\n",
            "Requirement already satisfied: wheel<1.0,>=0.32.0 in /usr/local/lib/python3.7/dist-packages (from tensorflow->-r requirements.txt (line 8)) (0.37.1)\n",
            "Requirement already satisfied: wrapt>=1.11.0 in /usr/local/lib/python3.7/dist-packages (from tensorflow->-r requirements.txt (line 8)) (1.13.3)\n",
            "Requirement already satisfied: tensorboard~=2.6 in /usr/local/lib/python3.7/dist-packages (from tensorflow->-r requirements.txt (line 8)) (2.7.0)\n",
            "Requirement already satisfied: astunparse>=1.6.0 in /usr/local/lib/python3.7/dist-packages (from tensorflow->-r requirements.txt (line 8)) (1.6.3)\n",
            "Requirement already satisfied: h5py>=2.9.0 in /usr/local/lib/python3.7/dist-packages (from tensorflow->-r requirements.txt (line 8)) (3.1.0)\n",
            "Requirement already satisfied: opt-einsum>=2.3.2 in /usr/local/lib/python3.7/dist-packages (from tensorflow->-r requirements.txt (line 8)) (3.3.0)\n",
            "Requirement already satisfied: google-pasta>=0.1.1 in /usr/local/lib/python3.7/dist-packages (from tensorflow->-r requirements.txt (line 8)) (0.2.0)\n",
            "Requirement already satisfied: cached-property in /usr/local/lib/python3.7/dist-packages (from h5py>=2.9.0->tensorflow->-r requirements.txt (line 8)) (1.5.2)\n",
            "Requirement already satisfied: tensorboard-data-server<0.7.0,>=0.6.0 in /usr/local/lib/python3.7/dist-packages (from tensorboard~=2.6->tensorflow->-r requirements.txt (line 8)) (0.6.1)\n",
            "Requirement already satisfied: tensorboard-plugin-wit>=1.6.0 in /usr/local/lib/python3.7/dist-packages (from tensorboard~=2.6->tensorflow->-r requirements.txt (line 8)) (1.8.1)\n",
            "Requirement already satisfied: werkzeug>=0.11.15 in /usr/local/lib/python3.7/dist-packages (from tensorboard~=2.6->tensorflow->-r requirements.txt (line 8)) (1.0.1)\n",
            "Requirement already satisfied: markdown>=2.6.8 in /usr/local/lib/python3.7/dist-packages (from tensorboard~=2.6->tensorflow->-r requirements.txt (line 8)) (3.3.6)\n",
            "Requirement already satisfied: google-auth<3,>=1.6.3 in /usr/local/lib/python3.7/dist-packages (from tensorboard~=2.6->tensorflow->-r requirements.txt (line 8)) (1.35.0)\n",
            "Requirement already satisfied: google-auth-oauthlib<0.5,>=0.4.1 in /usr/local/lib/python3.7/dist-packages (from tensorboard~=2.6->tensorflow->-r requirements.txt (line 8)) (0.4.6)\n",
            "Requirement already satisfied: setuptools>=41.0.0 in /usr/local/lib/python3.7/dist-packages (from tensorboard~=2.6->tensorflow->-r requirements.txt (line 8)) (57.4.0)\n",
            "Requirement already satisfied: rsa<5,>=3.1.4 in /usr/local/lib/python3.7/dist-packages (from google-auth<3,>=1.6.3->tensorboard~=2.6->tensorflow->-r requirements.txt (line 8)) (4.8)\n",
            "Requirement already satisfied: cachetools<5.0,>=2.0.0 in /usr/local/lib/python3.7/dist-packages (from google-auth<3,>=1.6.3->tensorboard~=2.6->tensorflow->-r requirements.txt (line 8)) (4.2.4)\n",
            "Requirement already satisfied: pyasn1-modules>=0.2.1 in /usr/local/lib/python3.7/dist-packages (from google-auth<3,>=1.6.3->tensorboard~=2.6->tensorflow->-r requirements.txt (line 8)) (0.2.8)\n",
            "Requirement already satisfied: requests-oauthlib>=0.7.0 in /usr/local/lib/python3.7/dist-packages (from google-auth-oauthlib<0.5,>=0.4.1->tensorboard~=2.6->tensorflow->-r requirements.txt (line 8)) (1.3.1)\n",
            "Requirement already satisfied: pyasn1<0.5.0,>=0.4.6 in /usr/local/lib/python3.7/dist-packages (from pyasn1-modules>=0.2.1->google-auth<3,>=1.6.3->tensorboard~=2.6->tensorflow->-r requirements.txt (line 8)) (0.4.8)\n",
            "Requirement already satisfied: oauthlib>=3.0.0 in /usr/local/lib/python3.7/dist-packages (from requests-oauthlib>=0.7.0->google-auth-oauthlib<0.5,>=0.4.1->tensorboard~=2.6->tensorflow->-r requirements.txt (line 8)) (3.2.0)\n",
            "Requirement already satisfied: scikit-learn in /usr/local/lib/python3.7/dist-packages (from sklearn->-r requirements.txt (line 10)) (1.0.2)\n",
            "Requirement already satisfied: beautifulsoup4 in /usr/local/lib/python3.7/dist-packages (from gdown->-r requirements.txt (line 13)) (4.6.3)\n",
            "Requirement already satisfied: tqdm in /usr/local/lib/python3.7/dist-packages (from gdown->-r requirements.txt (line 13)) (4.62.3)\n",
            "Requirement already satisfied: filelock in /usr/local/lib/python3.7/dist-packages (from gdown->-r requirements.txt (line 13)) (3.4.2)\n",
            "Collecting Mako\n",
            "  Downloading Mako-1.1.6-py2.py3-none-any.whl (75 kB)\n",
            "\u001b[K     |████████████████████████████████| 75 kB 4.8 MB/s \n",
            "\u001b[?25hRequirement already satisfied: importlib-resources in /usr/local/lib/python3.7/dist-packages (from alembic->mlflow>=1.20.2->-r requirements.txt (line 15)) (5.4.0)\n",
            "Requirement already satisfied: greenlet!=0.4.17 in /usr/local/lib/python3.7/dist-packages (from sqlalchemy->mlflow>=1.20.2->-r requirements.txt (line 15)) (1.1.2)\n",
            "Requirement already satisfied: pyerfa>=1.7.3 in /usr/local/lib/python3.7/dist-packages (from astropy->healpy->-r requirements.txt (line 6)) (2.0.0.1)\n",
            "Requirement already satisfied: itsdangerous<2.0,>=0.24 in /usr/local/lib/python3.7/dist-packages (from Flask->mlflow>=1.20.2->-r requirements.txt (line 15)) (1.1.0)\n",
            "Requirement already satisfied: Jinja2<3.0,>=2.10.1 in /usr/local/lib/python3.7/dist-packages (from Flask->mlflow>=1.20.2->-r requirements.txt (line 15)) (2.11.3)\n",
            "Requirement already satisfied: MarkupSafe>=0.23 in /usr/local/lib/python3.7/dist-packages (from Jinja2<3.0,>=2.10.1->Flask->mlflow>=1.20.2->-r requirements.txt (line 15)) (2.0.1)\n",
            "Requirement already satisfied: prometheus-client in /usr/local/lib/python3.7/dist-packages (from prometheus-flask-exporter->mlflow>=1.20.2->-r requirements.txt (line 15)) (0.13.1)\n",
            "Requirement already satisfied: PySocks!=1.5.7,>=1.5.6 in /usr/local/lib/python3.7/dist-packages (from requests>=2.17.3->mlflow>=1.20.2->-r requirements.txt (line 15)) (1.7.1)\n",
            "Requirement already satisfied: joblib>=0.11 in /usr/local/lib/python3.7/dist-packages (from scikit-learn->sklearn->-r requirements.txt (line 10)) (1.1.0)\n",
            "Requirement already satisfied: threadpoolctl>=2.0.0 in /usr/local/lib/python3.7/dist-packages (from scikit-learn->sklearn->-r requirements.txt (line 10)) (3.1.0)\n",
            "Building wheels for collected packages: ccgpack, databricks-cli, imgaug, pyngrok\n",
            "  Building wheel for ccgpack (setup.py) ... \u001b[?25l\u001b[?25hdone\n",
            "  Created wheel for ccgpack: filename=ccgpack-0.1.0-cp37-cp37m-linux_x86_64.whl size=910045 sha256=111a6acffb00b54e983b89c34d4c6a8d92e838d31a4f370e63a1071c1f7cd961\n",
            "  Stored in directory: /tmp/pip-ephem-wheel-cache-pcuikj6k/wheels/12/6f/95/7ae57565d174cea0e92a0da0a36f289e045f46ef2173da656b\n",
            "  Building wheel for databricks-cli (setup.py) ... \u001b[?25l\u001b[?25hdone\n",
            "  Created wheel for databricks-cli: filename=databricks_cli-0.16.4-py3-none-any.whl size=106877 sha256=5cc043a6b611ce0b1ef11da92294b3f64994dd2c60abc316c2bdf8891b2fcb34\n",
            "  Stored in directory: /root/.cache/pip/wheels/a2/a1/6d/fa1d22ea25ed8593887437fe1c7e00f6ef307fc240ccd4dc5c\n",
            "  Building wheel for imgaug (setup.py) ... \u001b[?25l\u001b[?25hdone\n",
            "  Created wheel for imgaug: filename=imgaug-0.2.6-py3-none-any.whl size=654017 sha256=8bf89fcb9a454ba159371125a4a59c58df6be7c06bc2026654b39b23514c013d\n",
            "  Stored in directory: /root/.cache/pip/wheels/89/72/98/3ebfdba1069a9a8eaaa7ae7265cfd67d63ef0197aaee2e5f9c\n",
            "  Building wheel for pyngrok (setup.py) ... \u001b[?25l\u001b[?25hdone\n",
            "  Created wheel for pyngrok: filename=pyngrok-5.1.0-py3-none-any.whl size=19007 sha256=3566262390306cb6ac5a3e3db7d00c6764015d77a2780e9d58075d37b1bf7c79\n",
            "  Stored in directory: /root/.cache/pip/wheels/bf/e6/af/ccf6598ecefecd44104069371795cb9b3afbcd16987f6ccfb3\n",
            "Successfully built ccgpack databricks-cli imgaug pyngrok\n",
            "Installing collected packages: smmap, websocket-client, Mako, gitdb, querystring-parser, pyyaml, prometheus-flask-exporter, imgaug, gunicorn, gitpython, docker, databricks-cli, alembic, pyngrok, mlflow, healpy, ccgpack\n",
            "  Attempting uninstall: pyyaml\n",
            "    Found existing installation: PyYAML 3.13\n",
            "    Uninstalling PyYAML-3.13:\n",
            "      Successfully uninstalled PyYAML-3.13\n",
            "  Attempting uninstall: imgaug\n",
            "    Found existing installation: imgaug 0.2.9\n",
            "    Uninstalling imgaug-0.2.9:\n",
            "      Successfully uninstalled imgaug-0.2.9\n",
            "Successfully installed Mako-1.1.6 alembic-1.7.6 ccgpack-0.1.0 databricks-cli-0.16.4 docker-5.0.3 gitdb-4.0.9 gitpython-3.1.26 gunicorn-20.1.0 healpy-1.15.2 imgaug-0.2.6 mlflow-1.23.1 prometheus-flask-exporter-0.18.7 pyngrok-5.1.0 pyyaml-6.0 querystring-parser-1.2.4 smmap-5.0.0 websocket-client-1.2.3\n"
          ]
        }
      ]
    },
    {
      "cell_type": "markdown",
      "source": [
        "# Data creation & preprocessing"
      ],
      "metadata": {
        "id": "qqNq0y7d8V5l"
      }
    },
    {
      "cell_type": "code",
      "execution_count": 6,
      "metadata": {
        "id": "Lqid_wpbrpGr"
      },
      "outputs": [],
      "source": [
        "from data_handler.data_creator import DataCreator"
      ]
    },
    {
      "cell_type": "code",
      "execution_count": 7,
      "metadata": {
        "id": "fDyVKJ2gtzLt"
      },
      "outputs": [],
      "source": [
        "data = DataCreator()"
      ]
    },
    {
      "cell_type": "code",
      "execution_count": 8,
      "metadata": {
        "id": "i7GGWbSq0_VO"
      },
      "outputs": [],
      "source": [
        "# data.download(download_base_folder='../dataset/raw_data')"
      ]
    },
    {
      "cell_type": "code",
      "execution_count": 9,
      "metadata": {
        "id": "NIeSR7fgdk4U"
      },
      "outputs": [],
      "source": [
        "# data.create(create_base_folder='/content/drive/MyDrive/CS-CMB-CNN-data/10class_dataset')"
      ]
    },
    {
      "cell_type": "code",
      "source": [
        "shutil.rmtree('./dataset/CS-CMB-CNN-data/10class_dataset', ignore_errors=True)\n",
        "shutil.copytree('/content/drive/MyDrive/CS-CMB-CNN-data/10class_dataset', './dataset/CS-CMB-CNN-data/10class_dataset')"
      ],
      "metadata": {
        "colab": {
          "base_uri": "https://localhost:8080/",
          "height": 35
        },
        "id": "3To54svX2uwh",
        "outputId": "c180ad1a-4704-4e2e-b97d-c7bb77f9a852"
      },
      "execution_count": 10,
      "outputs": [
        {
          "output_type": "execute_result",
          "data": {
            "application/vnd.google.colaboratory.intrinsic+json": {
              "type": "string"
            },
            "text/plain": [
              "'./dataset/CS-CMB-CNN-data/10class_dataset'"
            ]
          },
          "metadata": {},
          "execution_count": 10
        }
      ]
    },
    {
      "cell_type": "code",
      "source": [
        "partition, labels = data.partitioning('/content/drive/MyDrive/CS-CMB-CNN-data/10class_dataset')"
      ],
      "metadata": {
        "colab": {
          "base_uri": "https://localhost:8080/"
        },
        "id": "Uq5XQ5S8P4MC",
        "outputId": "3d3c4a40-2017-41fd-8298-e8b8c4b5be24"
      },
      "execution_count": 11,
      "outputs": [
        {
          "output_type": "stream",
          "name": "stdout",
          "text": [
            "Classes and train/val/test counts:\n",
            "\n",
            "0 >>> train: 5216 | val: 928 | test: 768\n",
            "1e_05 >>> train: 5216 | val: 928 | test: 768\n",
            "1e_06 >>> train: 5216 | val: 928 | test: 768\n",
            "1e_07 >>> train: 5216 | val: 928 | test: 768\n",
            "1e_08 >>> train: 5216 | val: 928 | test: 768\n",
            "1e_09 >>> train: 5216 | val: 928 | test: 768\n",
            "5e_06 >>> train: 5216 | val: 928 | test: 768\n",
            "5e_07 >>> train: 5216 | val: 928 | test: 768\n",
            "5e_08 >>> train: 5216 | val: 928 | test: 768\n",
            "5e_09 >>> train: 5216 | val: 928 | test: 768\n"
          ]
        }
      ]
    },
    {
      "cell_type": "markdown",
      "source": [
        "# Training"
      ],
      "metadata": {
        "id": "NLblbE419rrE"
      }
    },
    {
      "cell_type": "code",
      "source": [
        "!python train.py --model model1 --pretrain --path_to_pretrain '/content/drive/MyDrive/CS-CMB-CNN/weights/10classes/model1_10classes__2022-02-10_14:31:43.844805.h5' --early_stopping_patience 3 --batch_size 32 --epochs 4 --plateau_reduce_lr_scheduler --plateau_reduce_initial_lr 0.0006 --plateau_reduce_patience 2 --plateau_reduce_min_lr 5e-5 --dataset_dir './dataset/CS-CMB-CNN-data/10class_dataset' --n_classes 10 --weights_base_folder '/content/drive/MyDrive/CS-CMB-CNN/weights' --mlflow_source '/content/drive/MyDrive/CS-CMB-CNN/mlruns' --tb_log_dir '/content/drive/MyDrive/CS-CMB-CNN/tb_logs' --no_run_ngrok"
      ],
      "metadata": {
        "colab": {
          "base_uri": "https://localhost:8080/"
        },
        "id": "N_UJQ7ISmN0y",
        "outputId": "92ad355a-7928-49a1-89c4-182131f8e58a"
      },
      "execution_count": null,
      "outputs": [
        {
          "output_type": "stream",
          "name": "stdout",
          "text": [
            "Chosen Model: model1\n",
            "Arguments: Namespace(augmentation=False, augmentation_p=0.5, batch_size=32, cosine_decay_alpha=0.001, cosine_decay_initial_lr=0.1, cosine_decay_lr_scheduler=False, dataset_dir='./dataset/CS-CMB-CNN-data/10class_dataset', dropout_rate=0.5, early_stopping_patience=3, epochs=4, input_shape=(256, 256, 1), learning_rate=0.001, mlflow_source='/content/drive/MyDrive/CS-CMB-CNN/mlruns', model='model1', multiprocessing=False, n_classes=10, ngrok_auth_token=None, path_to_pretrain='/content/drive/MyDrive/CS-CMB-CNN/weights/10classes/model1_10classes__2022-02-10_14:31:43.844805.h5', plateau_reduce_initial_lr=0.0006, plateau_reduce_lr_scheduler=True, plateau_reduce_min_lr=5e-05, plateau_reduce_patience=2, pretrain=True, run_ngrok=False, tb_log_dir='/content/drive/MyDrive/CS-CMB-CNN/tb_logs', warmup_epoch=3, warmup_lr_scheduler=False, warmup_max_lr=0.1, weights_base_folder='/content/drive/MyDrive/CS-CMB-CNN/weights', workers=1)\n",
            "Classes and train/val/test counts:\n",
            "\n",
            "0 >>> train: 5216 | val: 928 | test: 768\n",
            "1e_05 >>> train: 5216 | val: 928 | test: 768\n",
            "1e_06 >>> train: 5216 | val: 928 | test: 768\n",
            "1e_07 >>> train: 5216 | val: 928 | test: 768\n",
            "1e_08 >>> train: 5216 | val: 928 | test: 768\n",
            "1e_09 >>> train: 5216 | val: 928 | test: 768\n",
            "5e_06 >>> train: 5216 | val: 928 | test: 768\n",
            "5e_07 >>> train: 5216 | val: 928 | test: 768\n",
            "5e_08 >>> train: 5216 | val: 928 | test: 768\n",
            "5e_09 >>> train: 5216 | val: 928 | test: 768\n",
            "Loading Model is Done!\n",
            "pretrain weights loaded.\n",
            "Model: \"model\"\n",
            "_________________________________________________________________\n",
            " Layer (type)                Output Shape              Param #   \n",
            "=================================================================\n",
            " input_1 (InputLayer)        [(None, 256, 256, 1)]     0         \n",
            "                                                                 \n",
            " conv2d (Conv2D)             (None, 256, 256, 4)       104       \n",
            "                                                                 \n",
            " batch_normalization (BatchN  (None, 256, 256, 4)      16        \n",
            " ormalization)                                                   \n",
            "                                                                 \n",
            " activation (Activation)     (None, 256, 256, 8)       0         \n",
            "                                                                 \n",
            " conv2d_1 (Conv2D)           (None, 256, 256, 4)       804       \n",
            "                                                                 \n",
            " batch_normalization_1 (Batc  (None, 256, 256, 4)      16        \n",
            " hNormalization)                                                 \n",
            "                                                                 \n",
            " activation_1 (Activation)   (None, 256, 256, 8)       0         \n",
            "                                                                 \n",
            " conv2d_2 (Conv2D)           (None, 256, 256, 4)       804       \n",
            "                                                                 \n",
            " batch_normalization_2 (Batc  (None, 256, 256, 4)      16        \n",
            " hNormalization)                                                 \n",
            "                                                                 \n",
            " activation_2 (Activation)   (None, 256, 256, 8)       0         \n",
            "                                                                 \n",
            " conv2d_3 (Conv2D)           (None, 256, 256, 4)       804       \n",
            "                                                                 \n",
            " batch_normalization_3 (Batc  (None, 256, 256, 4)      16        \n",
            " hNormalization)                                                 \n",
            "                                                                 \n",
            " activation_3 (Activation)   (None, 256, 256, 8)       0         \n",
            "                                                                 \n",
            " conv2d_4 (Conv2D)           (None, 256, 256, 8)       1608      \n",
            "                                                                 \n",
            " batch_normalization_4 (Batc  (None, 256, 256, 8)      32        \n",
            " hNormalization)                                                 \n",
            "                                                                 \n",
            " activation_4 (Activation)   (None, 256, 256, 16)      0         \n",
            "                                                                 \n",
            " conv2d_5 (Conv2D)           (None, 128, 128, 16)      6416      \n",
            "                                                                 \n",
            " batch_normalization_5 (Batc  (None, 128, 128, 16)     64        \n",
            " hNormalization)                                                 \n",
            "                                                                 \n",
            " activation_5 (Activation)   (None, 128, 128, 32)      0         \n",
            "                                                                 \n",
            " max_pooling2d (MaxPooling2D  (None, 128, 128, 32)     0         \n",
            " )                                                               \n",
            "                                                                 \n",
            " conv2d_6 (Conv2D)           (None, 128, 128, 8)       6408      \n",
            "                                                                 \n",
            " batch_normalization_6 (Batc  (None, 128, 128, 8)      32        \n",
            " hNormalization)                                                 \n",
            "                                                                 \n",
            " activation_6 (Activation)   (None, 128, 128, 16)      0         \n",
            "                                                                 \n",
            " conv2d_7 (Conv2D)           (None, 64, 64, 16)        6416      \n",
            "                                                                 \n",
            " batch_normalization_7 (Batc  (None, 64, 64, 16)       64        \n",
            " hNormalization)                                                 \n",
            "                                                                 \n",
            " activation_7 (Activation)   (None, 64, 64, 32)        0         \n",
            "                                                                 \n",
            " max_pooling2d_1 (MaxPooling  (None, 64, 64, 32)       0         \n",
            " 2D)                                                             \n",
            "                                                                 \n",
            " conv2d_8 (Conv2D)           (None, 64, 64, 8)         6408      \n",
            "                                                                 \n",
            " batch_normalization_8 (Batc  (None, 64, 64, 8)        32        \n",
            " hNormalization)                                                 \n",
            "                                                                 \n",
            " activation_8 (Activation)   (None, 64, 64, 16)        0         \n",
            "                                                                 \n",
            " conv2d_9 (Conv2D)           (None, 32, 32, 16)        6416      \n",
            "                                                                 \n",
            " batch_normalization_9 (Batc  (None, 32, 32, 16)       64        \n",
            " hNormalization)                                                 \n",
            "                                                                 \n",
            " activation_9 (Activation)   (None, 32, 32, 32)        0         \n",
            "                                                                 \n",
            " max_pooling2d_2 (MaxPooling  (None, 32, 32, 32)       0         \n",
            " 2D)                                                             \n",
            "                                                                 \n",
            " conv2d_10 (Conv2D)          (None, 32, 32, 8)         6408      \n",
            "                                                                 \n",
            " batch_normalization_10 (Bat  (None, 32, 32, 8)        32        \n",
            " chNormalization)                                                \n",
            "                                                                 \n",
            " activation_10 (Activation)  (None, 32, 32, 16)        0         \n",
            "                                                                 \n",
            " conv2d_11 (Conv2D)          (None, 16, 16, 16)        6416      \n",
            "                                                                 \n",
            " batch_normalization_11 (Bat  (None, 16, 16, 16)       64        \n",
            " chNormalization)                                                \n",
            "                                                                 \n",
            " activation_11 (Activation)  (None, 16, 16, 32)        0         \n",
            "                                                                 \n",
            " max_pooling2d_3 (MaxPooling  (None, 16, 16, 32)       0         \n",
            " 2D)                                                             \n",
            "                                                                 \n",
            " conv2d_12 (Conv2D)          (None, 16, 16, 8)         6408      \n",
            "                                                                 \n",
            " batch_normalization_12 (Bat  (None, 16, 16, 8)        32        \n",
            " chNormalization)                                                \n",
            "                                                                 \n",
            " activation_12 (Activation)  (None, 16, 16, 16)        0         \n",
            "                                                                 \n",
            " conv2d_13 (Conv2D)          (None, 8, 8, 16)          6416      \n",
            "                                                                 \n",
            " batch_normalization_13 (Bat  (None, 8, 8, 16)         64        \n",
            " chNormalization)                                                \n",
            "                                                                 \n",
            " activation_13 (Activation)  (None, 8, 8, 32)          0         \n",
            "                                                                 \n",
            " max_pooling2d_4 (MaxPooling  (None, 8, 8, 32)         0         \n",
            " 2D)                                                             \n",
            "                                                                 \n",
            " conv2d_14 (Conv2D)          (None, 8, 8, 8)           6408      \n",
            "                                                                 \n",
            " batch_normalization_14 (Bat  (None, 8, 8, 8)          32        \n",
            " chNormalization)                                                \n",
            "                                                                 \n",
            " activation_14 (Activation)  (None, 8, 8, 16)          0         \n",
            "                                                                 \n",
            " conv2d_15 (Conv2D)          (None, 4, 4, 16)          6416      \n",
            "                                                                 \n",
            " batch_normalization_15 (Bat  (None, 4, 4, 16)         64        \n",
            " chNormalization)                                                \n",
            "                                                                 \n",
            " activation_15 (Activation)  (None, 4, 4, 32)          0         \n",
            "                                                                 \n",
            " max_pooling2d_5 (MaxPooling  (None, 4, 4, 32)         0         \n",
            " 2D)                                                             \n",
            "                                                                 \n",
            " flatten (Flatten)           (None, 512)               0         \n",
            "                                                                 \n",
            " dropout (Dropout)           (None, 512)               0         \n",
            "                                                                 \n",
            " dense (Dense)               (None, 80)                20520     \n",
            "                                                                 \n",
            " dropout_1 (Dropout)         (None, 80)                0         \n",
            "                                                                 \n",
            " dense_1 (Dense)             (None, 40)                1620      \n",
            "                                                                 \n",
            " dropout_2 (Dropout)         (None, 40)                0         \n",
            "                                                                 \n",
            " dense_2 (Dense)             (None, 10)                410       \n",
            "                                                                 \n",
            "=================================================================\n",
            "Total params: 97,850\n",
            "Trainable params: 97,530\n",
            "Non-trainable params: 320\n",
            "_________________________________________________________________\n",
            "activate plateau_reduce_lr_scheduler.\n",
            "Epoch 1/4\n",
            "1630/1630 [==============================] - 1448s 880ms/step - loss: 0.0279 - acc: 0.4683 - val_loss: 0.0300 - val_acc: 0.4268 - lr: 6.0000e-04\n",
            "Epoch 2/4\n",
            "1630/1630 [==============================] - 1387s 851ms/step - loss: 0.0270 - acc: 0.4820 - val_loss: 0.0767 - val_acc: 0.1337 - lr: 6.0000e-04\n",
            "Epoch 3/4\n",
            "1630/1630 [==============================] - ETA: 0s - loss: 0.0268 - acc: 0.4849\n",
            "Epoch 00003: ReduceLROnPlateau reducing learning rate to 0.00048000002279877666.\n",
            "1630/1630 [==============================] - 1384s 849ms/step - loss: 0.0268 - acc: 0.4849 - val_loss: 0.0325 - val_acc: 0.3923 - lr: 6.0000e-04\n",
            "Epoch 4/4\n",
            "1277/1630 [======================>.......] - ETA: 4:32 - loss: 0.0261 - acc: 0.4959"
          ]
        }
      ]
    },
    {
      "cell_type": "markdown",
      "source": [
        "# Run MLFlow Separately"
      ],
      "metadata": {
        "id": "nBjTnvxY96ng"
      }
    },
    {
      "cell_type": "code",
      "source": [
        "import os\n",
        "os.chdir('/content/CS-CMB-CNN')"
      ],
      "metadata": {
        "id": "cb6XTmsc7BZ4"
      },
      "execution_count": null,
      "outputs": []
    },
    {
      "cell_type": "code",
      "source": [
        "from utils.mlflow_handler import MLFlowHandler\n",
        "\n",
        "ngrok_auth_token = '24pkO9X3tHjxkSV5jlAWhhidCiU_5WsrwXvesVaXN6iskvsFn'  # here you should paste the ngrok authentication token from this link: https://dashboard.ngrok.com/auth\n",
        "mlflow_source = '/content/drive/MyDrive/CS-CMB-CNN/mlruns'  # this should be the mlruns folder that contains all files to run mlflow for this project.\n",
        "\n",
        "MLFlowHandler.colab_ngrok(mlflow_source, ngrok_auth_token)"
      ],
      "metadata": {
        "id": "1W39Aftp86Bo",
        "colab": {
          "base_uri": "https://localhost:8080/"
        },
        "outputId": "a3dd5cec-7d87-48c2-f1fe-cd73f233e50f"
      },
      "execution_count": null,
      "outputs": [
        {
          "output_type": "stream",
          "name": "stdout",
          "text": [
            "MLflow Tracking UI: https://6f1a-35-223-181-213.ngrok.io\n"
          ]
        }
      ]
    },
    {
      "cell_type": "code",
      "source": [
        ""
      ],
      "metadata": {
        "id": "RdG4pD_X-zPY"
      },
      "execution_count": null,
      "outputs": []
    }
  ],
  "metadata": {
    "colab": {
      "collapsed_sections": [],
      "name": "CS-CMB-CNN-notebook",
      "provenance": []
    },
    "kernelspec": {
      "display_name": "Python 3",
      "name": "python3"
    },
    "language_info": {
      "name": "python"
    },
    "accelerator": "GPU"
  },
  "nbformat": 4,
  "nbformat_minor": 0
}